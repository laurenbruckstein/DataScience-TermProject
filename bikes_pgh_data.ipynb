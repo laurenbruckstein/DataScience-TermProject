{
 "cells": [
  {
   "cell_type": "markdown",
   "source": [
    "# CS 1656 – Introduction to Data Science (Fall 2021) \n",
    "\n",
    "## Instructor: Alexandros Labrinidis\n",
    "## Teaching Assistants: Evangelos Karageorgos, Xiaoting Li, Gordon Lu\n",
    "\n",
    "## Term Project \n",
    "\n",
    "**Released: October 26, 2021**\n",
    "\n",
    "**Due: November 30, 2021**"
   ],
   "metadata": {}
  },
  {
   "cell_type": "markdown",
   "source": [
    "### Goal\n",
    "The goal of this project is to expose you with a real data science problem, looking at the end-to-end pipeline. \n",
    "\n",
    "### What to do \n",
    "You are asked to write a Python Jupyter notebook, called `bikes_pgh_data.ipynb` that will:\n",
    "* [Task 1] access historical bike rental data for 2021 from HealthyRidePGH and summarize the rental data  \n",
    "* [Task 2] create graphs to show the popularity of the different rental stations, given filter conditions  \n",
    "* [Task 3] create graphs to show the rebalancing issue  \n",
    "* [Task 4] cluster the data to group similar stations together, using a variety of clustering functions and visualize the results of the clustering.  \n",
    "\n",
    "**Your program should not take more than 15 minutes to run**\n",
    "\n",
    "### Jupyter Notebook Rules\n",
    "This skeleton is provided for you to complete the project. Please add your code in the code cells below each Task. Feel free to add cells as needed. Do not remove existing cells."
   ],
   "metadata": {}
  },
  {
   "cell_type": "code",
   "execution_count": 57,
   "source": [
    "import matplotlib.pyplot as plt\n",
    "import pandas as pd\n",
    "\n",
    "# Feel free to add here any other libraries as specified in the project description"
   ],
   "outputs": [],
   "metadata": {
    "collapsed": true
   }
  },
  {
   "cell_type": "markdown",
   "source": [
    "For the sake of interactive display in Jupyter, we will enable matplotlib inline."
   ],
   "metadata": {}
  },
  {
   "cell_type": "code",
   "execution_count": 58,
   "source": [
    "%matplotlib inline"
   ],
   "outputs": [],
   "metadata": {
    "collapsed": true
   }
  },
  {
   "cell_type": "markdown",
   "source": [
    "### [Task 0] Warming Up\n",
    "Task 0 is for testing. It is used to ensure that this Jupyter Notebook skeleton works on both your machines and our machine. Please run the following code to see if you can see a line plot. The line plot is the basic plot that we have seen in Recitation2. "
   ],
   "metadata": {}
  },
  {
   "cell_type": "code",
   "execution_count": 59,
   "source": [
    "import datetime\n",
    "from pandas.plotting import register_matplotlib_converters\n",
    "register_matplotlib_converters()\n",
    "df = pd.read_csv('KPIT_Aug17.csv', sep=',', engine='python', parse_dates=['EST'])\n",
    "p1 = plt.plot(df['EST'],df['MeanDew PointF'])\n",
    "p2 = plt.plot(df['EST'],df['Mean TemperatureF'])\n",
    "plt.legend([p1[0],p2[0]], ['Mean Dew Point', 'Mean Temperature'])\n",
    "\n",
    "plt.show()"
   ],
   "outputs": [
    {
     "output_type": "display_data",
     "data": {
      "image/png": "[encoded data removed]",
      "text/plain": [
       "<Figure size 432x288 with 1 Axes>"
      ]
     },
     "metadata": {
      "needs_background": "light"
     }
    }
   ],
   "metadata": {
    "scrolled": true
   }
  },
  {
   "cell_type": "markdown",
   "source": [
    "--- \n",
    "Add your code below this line\n",
    "\n",
    "---\n",
    "### Task 1"
   ],
   "metadata": {}
  },
  {
   "cell_type": "markdown",
   "source": [
    "In this task you will need to access historical bike rental data for 2021 from HealthyRidePGH and summarize the rental data."
   ],
   "metadata": {}
  },
  {
   "cell_type": "code",
   "execution_count": 4,
   "source": [
    "import numpy as np\n",
    "import pandas as pd\n",
    "from sklearn import cluster\n",
    "import matplotlib.pyplot as plt\n",
    "\n",
    "# To show plots inline \n",
    "%matplotlib inline"
   ],
   "outputs": [],
   "metadata": {}
  },
  {
   "cell_type": "code",
   "execution_count": 5,
   "source": [
    "# Read in all the csv data\n",
    "df_Q1 = pd.read_csv('HealthyRideRentals2021-Q1.csv')\n",
    "df_Q2 = pd.read_csv('HealthyRideRentals2021-Q2.csv')\n",
    "df_Q3 = pd.read_csv('HealthyRideRentals2021-Q3.csv')\n",
    "\n",
    "# Put all csv files into an array\n",
    "df_all = [df_Q1, df_Q2, df_Q3]\n",
    " \n",
    "# Concanate all files in the array\n",
    "df = pd.concat(df_all) \n",
    "\n",
    "# Use to see compiled files\n",
    "#df\n",
    " "
   ],
   "outputs": [],
   "metadata": {
    "collapsed": true
   }
  },
  {
   "cell_type": "markdown",
   "source": [
    "Table with Starter Information:"
   ],
   "metadata": {}
  },
  {
   "cell_type": "code",
   "execution_count": 6,
   "source": [
    "# Make Table with parsed Starttime Information \n",
    "# Parse starttime to time and date; then parse again for month and hour\n",
    "\n",
    "startInfo = df\n",
    "\n",
    "# Make [date, time] array \n",
    "startInfo['temp'] = startInfo['Starttime'].str.split(' ')\n",
    "\n",
    "# Parse by Date and Time\n",
    "startInfo[\"Date\"] = startInfo[\"temp\"].str[0]\n",
    "startInfo[\"Time\"] = startInfo[\"temp\"].str[1] \n",
    "\n",
    "# Parse by Month \n",
    "startInfo[\"temp2\"] = startInfo[\"temp\"].str[0]\n",
    "\n",
    "startInfo[\"temp2\"] = startInfo[\"temp2\"].str.split('/')\n",
    "startInfo[\"Month\"] = startInfo[\"temp2\"].str[0]\n",
    "startInfo[\"Day\"] = startInfo[\"temp2\"].str[1]\n",
    "\n",
    "# Parse by Hour\n",
    "startInfo['temp3'] = startInfo['Time'].str.split(':')\n",
    "startInfo['Hour'] = startInfo['temp3'].str[0]\n",
    "\n",
    "\n",
    "# Remove the temp column\n",
    "startInfo = startInfo.drop('temp', 1)\n",
    "startInfo = startInfo.drop('temp2', 1)\n",
    "startInfo = startInfo.drop('temp3', 1)\n",
    "\n",
    "# Convert Data Types\n",
    "startInfo['Month'] = startInfo['Month'].astype(int)\n",
    "startInfo['Day'] = startInfo['Day'].astype(int)\n",
    "startInfo['Hour'] = startInfo['Hour'].astype(int)\n",
    "\n",
    "#startInfo"
   ],
   "outputs": [],
   "metadata": {}
  },
  {
   "cell_type": "code",
   "execution_count": 7,
   "source": [
    "# Holds all From station id information \n",
    "\n",
    "fromInfo = startInfo[['From station id', 'Day', 'Month', 'Hour', 'Bikeid', 'Trip id']]\n",
    "fromInfo = fromInfo.groupby(['From station id', 'Day', 'Month', 'Hour', 'Bikeid']).count()\n",
    "fromInfo['fromCNT'] = fromInfo['Trip id']\n",
    "\n",
    "# Remove the Trip id column\n",
    "fromInfo = fromInfo.drop('Trip id', 1)\n",
    "\n",
    "# Convert dictionary into columns\n",
    "fromInfo.reset_index(inplace=True)\n",
    "\n",
    "#fromInfo"
   ],
   "outputs": [],
   "metadata": {}
  },
  {
   "cell_type": "markdown",
   "source": [
    "Use for testing:"
   ],
   "metadata": {}
  },
  {
   "cell_type": "code",
   "execution_count": 8,
   "source": [
    "# TESTING : Use to compare data from starting information to task output\n",
    "\n",
    "test = df.copy(deep=True) \n",
    "test.sort_values(['Bikeid', 'Starttime'], inplace=True)\n",
    "test = test.loc[test['From station id'] == 49801]  # Filter Station\n",
    "#test = test.loc[test['To station id'] != 49801]  # Filter Station\n",
    "#test = test.loc[test['To station id'] != 1002]  # Filter Station\n",
    "#test = test.loc[test['Month'] == 4]    # Filter Month\n",
    "#test = test.loc[test['Hour'] == 7]     # Filter Hour\n",
    "test = test.loc[test['Date'] == '9/9/2021']       # Filter Day\n",
    "#test = test.loc[test['Bikeid'] == 71176]  # Filter Bikeid\n",
    "#test"
   ],
   "outputs": [],
   "metadata": {}
  },
  {
   "cell_type": "markdown",
   "source": [
    "Calculate fromCNT Daily:"
   ],
   "metadata": {}
  },
  {
   "cell_type": "code",
   "execution_count": 9,
   "source": [
    "# PUT fromCNT IN A TABLE\n",
    "\n",
    "fromDf = df[['From station id', 'Date', 'Time']]   \n",
    "fromDf = fromDf.groupby(['From station id', 'Date']).count()\n",
    "fromDf['fromCNT'] = fromDf['Time']\n",
    "\n",
    "# Remove the time column\n",
    "fromDf = fromDf.drop('Time', 1)\n",
    "\n",
    "# Convert dictionary into columns\n",
    "fromDf.reset_index(inplace=True)\n",
    "\n",
    "# Testing\n",
    "#test = fromDf.loc[fromDf['From station id'] == 49801]\n",
    "#test = fromDf.loc[fromDf['Date'] == '1/23/2021']\n",
    "#test\n",
    "\n",
    "# Print\n",
    "#fromDf"
   ],
   "outputs": [],
   "metadata": {}
  },
  {
   "cell_type": "markdown",
   "source": [
    "Calculate toCNT daily:"
   ],
   "metadata": {}
  },
  {
   "cell_type": "code",
   "execution_count": 10,
   "source": [
    "# PUT toCNT IN A TABLE\n",
    "\n",
    "toDf = df[['To station id', 'Date', 'Time']]   \n",
    "toDf = toDf.groupby(['To station id', 'Date']).count()\n",
    "toDf['toCNT'] = toDf['Time']\n",
    "\n",
    "# Remove the time column\n",
    "toDf = toDf.drop('Time', 1)\n",
    "\n",
    "# Convert dictionary into columns\n",
    "toDf.reset_index(inplace=True)\n",
    "\n",
    "# Print\n",
    "#toDf"
   ],
   "outputs": [],
   "metadata": {}
  },
  {
   "cell_type": "markdown",
   "source": [
    "Calculate rebalCNT for daily breakdown:"
   ],
   "metadata": {}
  },
  {
   "cell_type": "code",
   "execution_count": 11,
   "source": [
    "# OLD REBALCNT CALCULATIONS\n",
    "# When a bike is picked up from a station it was not dropped off at  \n",
    "fromCNT = fromDf['fromCNT']\n",
    "toCNT = toDf['toCNT'] \n",
    "rebalCNT = abs(fromCNT - toCNT) # change later to get more points\n",
    "#rebalCNT"
   ],
   "outputs": [],
   "metadata": {}
  },
  {
   "cell_type": "code",
   "execution_count": 12,
   "source": [
    "# ATTEMPT FOR CALCULATING REBALCNT\n",
    "\n",
    "#rebalTable = startInfo.copy(deep='True')\n",
    "#rebalTable.sort_values(['Bikeid', 'Starttime'], inplace=True)\n",
    "#rebalTable['rebalCNT'] = np.nan\n",
    "#rebalTable = rebalTable.replace(np.nan, '0')\n",
    "#rebalTable['To station id'] = rebalTable['To station id'].astype(int)\n",
    "#rebalTable['From station id'] = rebalTable['From station id'].astype(int)\n",
    "#rebalTable['rebalCNT'] = rebalTable['rebalCNT'].astype(int)\n",
    "\n",
    "# CALCULATE THE reablCNT CALCULATIONS --> Marks all rows that have rebalancing\n",
    "\n",
    "#flag = 0\n",
    "#prevRow = 0 \n",
    "#for index, row in rebalTable.iterrows():\n",
    "    #if flag == 0:\n",
    "        #prevRow = row\n",
    "        #flag = 1\n",
    "        #firstInd = index\n",
    "        #next\n",
    "        \n",
    "    #prevToID = prevRow['To station name']\n",
    "    #curFromID = row['From station name']\n",
    "    #prevBikeID = prevRow['Bikeid'] \n",
    "    #curBikeID = row['Bikeid'] \n",
    "   \n",
    "    # TESTING print(\"prevToID\", prevToID)\n",
    "    # TESTING print(\"curFromID\", curFromID)\n",
    "    # TESTING print(\"Current index: \", index)\n",
    "  \n",
    "    #if (prevToID != 0 and curFromID != 0) and (prevToID != curFromID) and firstInd != index and (curBikeID == prevBikeID): \n",
    "       #rebalTable.loc[index, 'rebalCNT'] = 1\n",
    "       \n",
    "            \n",
    "    # TESTING print('\\n')\n",
    "    #prevRow = row\n",
    "\n",
    "#rebalTable.loc[rebalTable['rebalCNT'] == 1] \n",
    "#rebalTable"
   ],
   "outputs": [],
   "metadata": {}
  },
  {
   "cell_type": "markdown",
   "source": [
    "### Task 1.1"
   ],
   "metadata": {}
  },
  {
   "cell_type": "code",
   "execution_count": 13,
   "source": [
    "# TASK 1.1 \n",
    "#  **(day, station id, fromCNT, toCNT, rebalCNT)**\n",
    "\n",
    "left = pd.DataFrame(\n",
    "    {\n",
    "     \"Date\": fromDf['Date'],\n",
    "     \"station id\": fromDf['From station id'],\n",
    "     \"fromCNT\": fromDf['fromCNT'],\n",
    "    }\n",
    ")\n",
    "\n",
    "right = pd.DataFrame(\n",
    "    {\n",
    "    \"Date\": toDf['Date'],\n",
    "    \"station id\": toDf['To station id'],\n",
    "    \"toCNT\": toDf['toCNT'],\n",
    "    }\n",
    ")\n",
    "\n",
    "# Use outerjoin to merge data\n",
    "t1_Days = pd.merge(left, right, on=[\"Date\", \"station id\"], how='outer')\n",
    "\n",
    "# SORT DATA\n",
    "#t1_Days.sort_values(['Date', 'station id'], inplace=True)\n",
    "\n",
    "# Add a new column for rebal count\n",
    "t1_Days[\"rebalCNT\"] = rebalCNT\n",
    "\n",
    "\n",
    "\n",
    "# Convert all station ids and months to ints\n",
    "t1_Days['station id'] = t1_Days['station id'].astype(int)\n",
    "\n",
    "# Replace all NaN values with 0s\n",
    "t1_Days = t1_Days.replace(np.nan,'0') \n",
    "\n",
    "t1_Days_Print = t1_Days.head(20)\n",
    "t1_Days_Print"
   ],
   "outputs": [
    {
     "output_type": "execute_result",
     "data": {
      "text/html": [
       "<div>\n",
       "<style scoped>\n",
       "    .dataframe tbody tr th:only-of-type {\n",
       "        vertical-align: middle;\n",
       "    }\n",
       "\n",
       "    .dataframe tbody tr th {\n",
       "        vertical-align: top;\n",
       "    }\n",
       "\n",
       "    .dataframe thead th {\n",
       "        text-align: right;\n",
       "    }\n",
       "</style>\n",
       "<table border=\"1\" class=\"dataframe\">\n",
       "  <thead>\n",
       "    <tr style=\"text-align: right;\">\n",
       "      <th></th>\n",
       "      <th>Date</th>\n",
       "      <th>station id</th>\n",
       "      <th>fromCNT</th>\n",
       "      <th>toCNT</th>\n",
       "      <th>rebalCNT</th>\n",
       "    </tr>\n",
       "  </thead>\n",
       "  <tbody>\n",
       "    <tr>\n",
       "      <th>0</th>\n",
       "      <td>1/10/2021</td>\n",
       "      <td>1000</td>\n",
       "      <td>3</td>\n",
       "      <td>3</td>\n",
       "      <td>0</td>\n",
       "    </tr>\n",
       "    <tr>\n",
       "      <th>1</th>\n",
       "      <td>1/11/2021</td>\n",
       "      <td>1000</td>\n",
       "      <td>1</td>\n",
       "      <td>0</td>\n",
       "      <td>2</td>\n",
       "    </tr>\n",
       "    <tr>\n",
       "      <th>2</th>\n",
       "      <td>1/12/2021</td>\n",
       "      <td>1000</td>\n",
       "      <td>1</td>\n",
       "      <td>3</td>\n",
       "      <td>0</td>\n",
       "    </tr>\n",
       "    <tr>\n",
       "      <th>3</th>\n",
       "      <td>1/14/2021</td>\n",
       "      <td>1000</td>\n",
       "      <td>1</td>\n",
       "      <td>3</td>\n",
       "      <td>2</td>\n",
       "    </tr>\n",
       "    <tr>\n",
       "      <th>4</th>\n",
       "      <td>1/15/2021</td>\n",
       "      <td>1000</td>\n",
       "      <td>1</td>\n",
       "      <td>1</td>\n",
       "      <td>0</td>\n",
       "    </tr>\n",
       "    <tr>\n",
       "      <th>5</th>\n",
       "      <td>1/18/2021</td>\n",
       "      <td>1000</td>\n",
       "      <td>1</td>\n",
       "      <td>1</td>\n",
       "      <td>0</td>\n",
       "    </tr>\n",
       "    <tr>\n",
       "      <th>6</th>\n",
       "      <td>1/19/2021</td>\n",
       "      <td>1000</td>\n",
       "      <td>1</td>\n",
       "      <td>1</td>\n",
       "      <td>1</td>\n",
       "    </tr>\n",
       "    <tr>\n",
       "      <th>7</th>\n",
       "      <td>1/2/2021</td>\n",
       "      <td>1000</td>\n",
       "      <td>1</td>\n",
       "      <td>0</td>\n",
       "      <td>0</td>\n",
       "    </tr>\n",
       "    <tr>\n",
       "      <th>8</th>\n",
       "      <td>1/23/2021</td>\n",
       "      <td>1000</td>\n",
       "      <td>5</td>\n",
       "      <td>1</td>\n",
       "      <td>4</td>\n",
       "    </tr>\n",
       "    <tr>\n",
       "      <th>9</th>\n",
       "      <td>1/4/2021</td>\n",
       "      <td>1000</td>\n",
       "      <td>3</td>\n",
       "      <td>1</td>\n",
       "      <td>2</td>\n",
       "    </tr>\n",
       "    <tr>\n",
       "      <th>10</th>\n",
       "      <td>1/5/2021</td>\n",
       "      <td>1000</td>\n",
       "      <td>2</td>\n",
       "      <td>2</td>\n",
       "      <td>1</td>\n",
       "    </tr>\n",
       "    <tr>\n",
       "      <th>11</th>\n",
       "      <td>1/6/2021</td>\n",
       "      <td>1000</td>\n",
       "      <td>1</td>\n",
       "      <td>1</td>\n",
       "      <td>2</td>\n",
       "    </tr>\n",
       "    <tr>\n",
       "      <th>12</th>\n",
       "      <td>1/7/2021</td>\n",
       "      <td>1000</td>\n",
       "      <td>2</td>\n",
       "      <td>1</td>\n",
       "      <td>1</td>\n",
       "    </tr>\n",
       "    <tr>\n",
       "      <th>13</th>\n",
       "      <td>2/1/2021</td>\n",
       "      <td>1000</td>\n",
       "      <td>1</td>\n",
       "      <td>0</td>\n",
       "      <td>1</td>\n",
       "    </tr>\n",
       "    <tr>\n",
       "      <th>14</th>\n",
       "      <td>2/12/2021</td>\n",
       "      <td>1000</td>\n",
       "      <td>1</td>\n",
       "      <td>1</td>\n",
       "      <td>0</td>\n",
       "    </tr>\n",
       "    <tr>\n",
       "      <th>15</th>\n",
       "      <td>2/14/2021</td>\n",
       "      <td>1000</td>\n",
       "      <td>1</td>\n",
       "      <td>1</td>\n",
       "      <td>0</td>\n",
       "    </tr>\n",
       "    <tr>\n",
       "      <th>16</th>\n",
       "      <td>2/16/2021</td>\n",
       "      <td>1000</td>\n",
       "      <td>1</td>\n",
       "      <td>1</td>\n",
       "      <td>2</td>\n",
       "    </tr>\n",
       "    <tr>\n",
       "      <th>17</th>\n",
       "      <td>2/19/2021</td>\n",
       "      <td>1000</td>\n",
       "      <td>1</td>\n",
       "      <td>1</td>\n",
       "      <td>0</td>\n",
       "    </tr>\n",
       "    <tr>\n",
       "      <th>18</th>\n",
       "      <td>2/20/2021</td>\n",
       "      <td>1000</td>\n",
       "      <td>1</td>\n",
       "      <td>0</td>\n",
       "      <td>0</td>\n",
       "    </tr>\n",
       "    <tr>\n",
       "      <th>19</th>\n",
       "      <td>2/24/2021</td>\n",
       "      <td>1000</td>\n",
       "      <td>2</td>\n",
       "      <td>2</td>\n",
       "      <td>1</td>\n",
       "    </tr>\n",
       "  </tbody>\n",
       "</table>\n",
       "</div>"
      ],
      "text/plain": [
       "         Date  station id fromCNT toCNT rebalCNT\n",
       "0   1/10/2021        1000       3     3        0\n",
       "1   1/11/2021        1000       1     0        2\n",
       "2   1/12/2021        1000       1     3        0\n",
       "3   1/14/2021        1000       1     3        2\n",
       "4   1/15/2021        1000       1     1        0\n",
       "5   1/18/2021        1000       1     1        0\n",
       "6   1/19/2021        1000       1     1        1\n",
       "7    1/2/2021        1000       1     0        0\n",
       "8   1/23/2021        1000       5     1        4\n",
       "9    1/4/2021        1000       3     1        2\n",
       "10   1/5/2021        1000       2     2        1\n",
       "11   1/6/2021        1000       1     1        2\n",
       "12   1/7/2021        1000       2     1        1\n",
       "13   2/1/2021        1000       1     0        1\n",
       "14  2/12/2021        1000       1     1        0\n",
       "15  2/14/2021        1000       1     1        0\n",
       "16  2/16/2021        1000       1     1        2\n",
       "17  2/19/2021        1000       1     1        0\n",
       "18  2/20/2021        1000       1     0        0\n",
       "19  2/24/2021        1000       2     2        1"
      ]
     },
     "metadata": {},
     "execution_count": 13
    }
   ],
   "metadata": {}
  },
  {
   "cell_type": "markdown",
   "source": [
    "Calculate fromCNT monthly:"
   ],
   "metadata": {}
  },
  {
   "cell_type": "code",
   "execution_count": 14,
   "source": [
    "# GET fromCNT FOR MONTHS\n",
    "\n",
    "fromDf2 = df[['From station id', 'Month', 'Time']]   \n",
    "fromDf2 = fromDf2.groupby(['From station id', 'Month']).count()\n",
    "fromDf2['fromCNT'] = fromDf2['Time']\n",
    "\n",
    "# Remove the time column\n",
    "fromDf2 = fromDf2.drop('Time', 1)\n",
    "\n",
    "# Convert dictionary into columns\n",
    "fromDf2.reset_index(inplace=True)\n",
    "\n",
    "# Print\n",
    "#fromDf2"
   ],
   "outputs": [],
   "metadata": {}
  },
  {
   "cell_type": "markdown",
   "source": [
    "Calculate toCNT monthly:"
   ],
   "metadata": {}
  },
  {
   "cell_type": "code",
   "execution_count": 15,
   "source": [
    "# GET toCNT FOR MONTHS\n",
    "\n",
    "toDf2 = df[['To station id', 'Month', 'Time']]   \n",
    "toDf2 = toDf2.groupby(['To station id', 'Month']).count()\n",
    "toDf2['toCNT'] = toDf2['Time']\n",
    "\n",
    "# Remove the time column\n",
    "toDf2 = toDf2.drop('Time', 1)\n",
    "\n",
    "# Convert dictionary into columns\n",
    "toDf2.reset_index(inplace=True)\n",
    "\n",
    "# Print\n",
    "#toDf2"
   ],
   "outputs": [],
   "metadata": {}
  },
  {
   "cell_type": "markdown",
   "source": [
    "Calculate rebalCNT for monthly breakdown:"
   ],
   "metadata": {}
  },
  {
   "cell_type": "code",
   "execution_count": 16,
   "source": [
    "# Calculate rebalCNT\n",
    "fromCNT = fromDf2['fromCNT']\n",
    "toCNT = toDf2['toCNT'] \n",
    "rebalCNT = abs(fromCNT - toCNT)  "
   ],
   "outputs": [],
   "metadata": {}
  },
  {
   "cell_type": "markdown",
   "source": [
    "### Task 1.2"
   ],
   "metadata": {}
  },
  {
   "cell_type": "code",
   "execution_count": 17,
   "source": [
    "# TASK 1.2 : **(month, station id, fromCNT, toCNT, rebalCNT)**\n",
    "\n",
    "left = pd.DataFrame(\n",
    "    {\n",
    "     \"Month\": fromDf2['Month'],\n",
    "     \"station id\": fromDf2['From station id'],\n",
    "     \"fromCNT\": fromDf2['fromCNT']\n",
    "    }\n",
    ")\n",
    "\n",
    "right = pd.DataFrame(\n",
    "    {\n",
    "    \"Month\": toDf2['Month'],\n",
    "    \"station id\": toDf2['To station id'],\n",
    "    \"toCNT\": toDf2['toCNT']\n",
    "    }\n",
    ")\n",
    "\n",
    "# Use outerjoin to merge data\n",
    "t1_Months = pd.merge(left, right, on=[\"Month\", \"station id\"], how='outer')\n",
    "t1_Months.sort_values(['Month', 'station id'], inplace=True)\n",
    "\n",
    "# Add a new column for rebal count\n",
    "t1_Months[\"rebalCNT\"] = rebalCNT\n",
    "\n",
    "# Replace all NaN values with 0s\n",
    "t1_Months = t1_Months.replace(np.nan,'0') \n",
    "\n",
    "# Convert all station ids and months to ints\n",
    "t1_Months['station id'] = t1_Months['station id'].astype(int)\n",
    "t1_Months['fromCNT'] = t1_Months['fromCNT'].astype(int)\n",
    "t1_Months['Month'] = t1_Months['Month'].astype(int)\n",
    "\n",
    "\n",
    "# Get first 20 rows\n",
    "t1_Months_Print = t1_Months.head(20)\n",
    "\n",
    "# Print\n",
    "t1_Months_Print"
   ],
   "outputs": [
    {
     "output_type": "execute_result",
     "data": {
      "text/html": [
       "<div>\n",
       "<style scoped>\n",
       "    .dataframe tbody tr th:only-of-type {\n",
       "        vertical-align: middle;\n",
       "    }\n",
       "\n",
       "    .dataframe tbody tr th {\n",
       "        vertical-align: top;\n",
       "    }\n",
       "\n",
       "    .dataframe thead th {\n",
       "        text-align: right;\n",
       "    }\n",
       "</style>\n",
       "<table border=\"1\" class=\"dataframe\">\n",
       "  <thead>\n",
       "    <tr style=\"text-align: right;\">\n",
       "      <th></th>\n",
       "      <th>Month</th>\n",
       "      <th>station id</th>\n",
       "      <th>fromCNT</th>\n",
       "      <th>toCNT</th>\n",
       "      <th>rebalCNT</th>\n",
       "    </tr>\n",
       "  </thead>\n",
       "  <tbody>\n",
       "    <tr>\n",
       "      <th>0</th>\n",
       "      <td>1</td>\n",
       "      <td>1000</td>\n",
       "      <td>23</td>\n",
       "      <td>29</td>\n",
       "      <td>6</td>\n",
       "    </tr>\n",
       "    <tr>\n",
       "      <th>7</th>\n",
       "      <td>1</td>\n",
       "      <td>1001</td>\n",
       "      <td>18</td>\n",
       "      <td>27</td>\n",
       "      <td>9</td>\n",
       "    </tr>\n",
       "    <tr>\n",
       "      <th>14</th>\n",
       "      <td>1</td>\n",
       "      <td>1002</td>\n",
       "      <td>27</td>\n",
       "      <td>27</td>\n",
       "      <td>0</td>\n",
       "    </tr>\n",
       "    <tr>\n",
       "      <th>21</th>\n",
       "      <td>1</td>\n",
       "      <td>1003</td>\n",
       "      <td>2</td>\n",
       "      <td>1</td>\n",
       "      <td>1</td>\n",
       "    </tr>\n",
       "    <tr>\n",
       "      <th>28</th>\n",
       "      <td>1</td>\n",
       "      <td>1004</td>\n",
       "      <td>20</td>\n",
       "      <td>16</td>\n",
       "      <td>4</td>\n",
       "    </tr>\n",
       "    <tr>\n",
       "      <th>35</th>\n",
       "      <td>1</td>\n",
       "      <td>1005</td>\n",
       "      <td>6</td>\n",
       "      <td>3</td>\n",
       "      <td>3</td>\n",
       "    </tr>\n",
       "    <tr>\n",
       "      <th>42</th>\n",
       "      <td>1</td>\n",
       "      <td>1006</td>\n",
       "      <td>8</td>\n",
       "      <td>8</td>\n",
       "      <td>0</td>\n",
       "    </tr>\n",
       "    <tr>\n",
       "      <th>49</th>\n",
       "      <td>1</td>\n",
       "      <td>1007</td>\n",
       "      <td>9</td>\n",
       "      <td>7</td>\n",
       "      <td>2</td>\n",
       "    </tr>\n",
       "    <tr>\n",
       "      <th>62</th>\n",
       "      <td>1</td>\n",
       "      <td>1009</td>\n",
       "      <td>8</td>\n",
       "      <td>3</td>\n",
       "      <td>5</td>\n",
       "    </tr>\n",
       "    <tr>\n",
       "      <th>69</th>\n",
       "      <td>1</td>\n",
       "      <td>1010</td>\n",
       "      <td>47</td>\n",
       "      <td>30</td>\n",
       "      <td>17</td>\n",
       "    </tr>\n",
       "    <tr>\n",
       "      <th>76</th>\n",
       "      <td>1</td>\n",
       "      <td>1011</td>\n",
       "      <td>7</td>\n",
       "      <td>17</td>\n",
       "      <td>10</td>\n",
       "    </tr>\n",
       "    <tr>\n",
       "      <th>83</th>\n",
       "      <td>1</td>\n",
       "      <td>1012</td>\n",
       "      <td>50</td>\n",
       "      <td>52</td>\n",
       "      <td>2</td>\n",
       "    </tr>\n",
       "    <tr>\n",
       "      <th>90</th>\n",
       "      <td>1</td>\n",
       "      <td>1013</td>\n",
       "      <td>26</td>\n",
       "      <td>24</td>\n",
       "      <td>2</td>\n",
       "    </tr>\n",
       "    <tr>\n",
       "      <th>97</th>\n",
       "      <td>1</td>\n",
       "      <td>1014</td>\n",
       "      <td>5</td>\n",
       "      <td>2</td>\n",
       "      <td>3</td>\n",
       "    </tr>\n",
       "    <tr>\n",
       "      <th>104</th>\n",
       "      <td>1</td>\n",
       "      <td>1015</td>\n",
       "      <td>16</td>\n",
       "      <td>16</td>\n",
       "      <td>0</td>\n",
       "    </tr>\n",
       "    <tr>\n",
       "      <th>111</th>\n",
       "      <td>1</td>\n",
       "      <td>1016</td>\n",
       "      <td>21</td>\n",
       "      <td>28</td>\n",
       "      <td>7</td>\n",
       "    </tr>\n",
       "    <tr>\n",
       "      <th>118</th>\n",
       "      <td>1</td>\n",
       "      <td>1017</td>\n",
       "      <td>61</td>\n",
       "      <td>70</td>\n",
       "      <td>9</td>\n",
       "    </tr>\n",
       "    <tr>\n",
       "      <th>125</th>\n",
       "      <td>1</td>\n",
       "      <td>1018</td>\n",
       "      <td>12</td>\n",
       "      <td>18</td>\n",
       "      <td>6</td>\n",
       "    </tr>\n",
       "    <tr>\n",
       "      <th>132</th>\n",
       "      <td>1</td>\n",
       "      <td>1019</td>\n",
       "      <td>18</td>\n",
       "      <td>34</td>\n",
       "      <td>16</td>\n",
       "    </tr>\n",
       "    <tr>\n",
       "      <th>139</th>\n",
       "      <td>1</td>\n",
       "      <td>1020</td>\n",
       "      <td>5</td>\n",
       "      <td>5</td>\n",
       "      <td>0</td>\n",
       "    </tr>\n",
       "  </tbody>\n",
       "</table>\n",
       "</div>"
      ],
      "text/plain": [
       "     Month  station id  fromCNT toCNT rebalCNT\n",
       "0        1        1000       23    29        6\n",
       "7        1        1001       18    27        9\n",
       "14       1        1002       27    27        0\n",
       "21       1        1003        2     1        1\n",
       "28       1        1004       20    16        4\n",
       "35       1        1005        6     3        3\n",
       "42       1        1006        8     8        0\n",
       "49       1        1007        9     7        2\n",
       "62       1        1009        8     3        5\n",
       "69       1        1010       47    30       17\n",
       "76       1        1011        7    17       10\n",
       "83       1        1012       50    52        2\n",
       "90       1        1013       26    24        2\n",
       "97       1        1014        5     2        3\n",
       "104      1        1015       16    16        0\n",
       "111      1        1016       21    28        7\n",
       "118      1        1017       61    70        9\n",
       "125      1        1018       12    18        6\n",
       "132      1        1019       18    34       16\n",
       "139      1        1020        5     5        0"
      ]
     },
     "metadata": {},
     "execution_count": 17
    }
   ],
   "metadata": {}
  },
  {
   "cell_type": "markdown",
   "source": [
    "---\n",
    "### Task 2"
   ],
   "metadata": {}
  },
  {
   "cell_type": "markdown",
   "source": [
    "In this task you will need to create graphs to show the popularity of the different rental stations, given filter conditions."
   ],
   "metadata": {}
  },
  {
   "cell_type": "code",
   "execution_count": 18,
   "source": [
    "# FILTER VARIABLES -- feel free to edit the values, but the names of the variables must remain \n",
    "#                     as they are and should be used by your code accordingly from this point on\n",
    "filter_month = 4\n",
    "filter_stationID = 1046"
   ],
   "outputs": [],
   "metadata": {
    "collapsed": true
   }
  },
  {
   "cell_type": "markdown",
   "source": [
    "### Task 2.1"
   ],
   "metadata": {}
  },
  {
   "cell_type": "code",
   "execution_count": 19,
   "source": [
    "# Show a bar chart for the 20 most popular bikestations when considering the number of **fromCNT** per station (for filter_month)\n",
    "t2_df1 = t1_Months.loc[t1_Months['Month'] == filter_month] \n",
    "t2_df1 = t2_df1.nlargest(20, ['fromCNT']) \n",
    "#t2_df1"
   ],
   "outputs": [],
   "metadata": {}
  },
  {
   "cell_type": "code",
   "execution_count": 20,
   "source": [
    "t2_graph1 = t2_df1.plot.bar(x='station id', y='fromCNT', rot=0)\n",
    "plt.title('Most popular stations in April')\n",
    "plt.xticks(fontsize = 11, rotation = 70)\n",
    "plt.ylabel(\"Number of rentals per bike\")\n",
    "t2_graph1"
   ],
   "outputs": [
    {
     "output_type": "execute_result",
     "data": {
      "text/plain": [
       "<AxesSubplot:title={'center':'Most popular stations in April'}, xlabel='station id', ylabel='Number of rentals per bike'>"
      ]
     },
     "metadata": {},
     "execution_count": 20
    },
    {
     "output_type": "display_data",
     "data": {
      "image/png": "[encoded data removed]",
      "text/plain": [
       "<Figure size 432x288 with 1 Axes>"
      ]
     },
     "metadata": {
      "needs_background": "light"
     }
    }
   ],
   "metadata": {}
  },
  {
   "cell_type": "markdown",
   "source": [
    "### Task 2.2"
   ],
   "metadata": {}
  },
  {
   "cell_type": "code",
   "execution_count": 21,
   "source": [
    "# For the filter_month and for the filter_stationID show a graph that shows the distribution of bike rentals throughout the month, for that station only.\n",
    "\n",
    "t2_df2 = t1_Days.copy(deep=True)\n",
    "\n",
    "# ADD COLUMN FOR MONTH AND DAY\n",
    "t2_df2[\"temp\"] = t2_df2[\"Date\"].str.split('/')\n",
    "t2_df2[\"Month\"] = t2_df2[\"temp\"].str[0]\n",
    "t2_df2['Month'] = t2_df2['Month'].astype(int)\n",
    "\n",
    "t2_df2[\"Day\"] = t2_df2[\"temp\"].str[1]\n",
    "t2_df2['Day'] = t2_df2['Day'].astype(int)\n",
    "\n",
    "# Remove the temp column\n",
    "t2_df2 = t2_df2.drop('temp', 1)\n",
    "\n",
    "# FILTER\n",
    "t2_df2 = t2_df2.loc[t2_df2['Month'] == filter_month]\n",
    "t2_df2 = t2_df2.loc[t2_df2['station id'] == filter_stationID]\n",
    "\n",
    "# SORT BY DAY\n",
    "t2_df2.sort_values([\"Day\"], inplace=True)\n",
    "\n",
    "# CONVERT DATA TYPES\n",
    "t2_df2['fromCNT'] = t2_df2['fromCNT'].astype(int)\n",
    "\n",
    "# PRINT\n",
    "#t2_df2"
   ],
   "outputs": [],
   "metadata": {
    "collapsed": true
   }
  },
  {
   "cell_type": "code",
   "execution_count": 22,
   "source": [
    "t2_graph2 = t2_df2.plot.bar(x='Day', y='fromCNT', rot=0)\n",
    "plt.title(\"Bike Rentals per Hour at station 1046 in April\")\n",
    "plt.ylabel(\"Number of rentals\")\n",
    "t2_graph2"
   ],
   "outputs": [
    {
     "output_type": "execute_result",
     "data": {
      "text/plain": [
       "<AxesSubplot:title={'center':'Bike Rentals per Hour at station 1046 in April'}, xlabel='Day', ylabel='Number of rentals'>"
      ]
     },
     "metadata": {},
     "execution_count": 22
    },
    {
     "output_type": "display_data",
     "data": {
      "image/png": "[encoded data removed]",
      "text/plain": [
       "<Figure size 432x288 with 1 Axes>"
      ]
     },
     "metadata": {
      "needs_background": "light"
     }
    }
   ],
   "metadata": {}
  },
  {
   "cell_type": "markdown",
   "source": [
    "### Task 2.3"
   ],
   "metadata": {}
  },
  {
   "cell_type": "code",
   "execution_count": 23,
   "source": [
    "# For the filter_month (e.g., April) show a graph that shows the distribution of bike rentals throughout the day, for all stations.\n",
    "# Drop NaN values ?? --> with time??\n",
    "\n",
    "t2_df3 = fromInfo\n",
    "\n",
    "# FILTER\n",
    "t2_df3 = t2_df3.loc[t2_df3['Month'] == filter_month]\n",
    "\n",
    "# MAKE A NEW TABLE\n",
    "t2_df3 = t2_df3[['fromCNT', 'Hour']]\n",
    "t2_df3 = t2_df3.groupby(['Hour']).count()\n",
    "\n",
    "# Convert dictionary into columns\n",
    "t2_df3.reset_index(inplace=True)\n",
    "\n",
    "\n",
    "# Print\n",
    "#t2_df3"
   ],
   "outputs": [],
   "metadata": {
    "collapsed": true
   }
  },
  {
   "cell_type": "code",
   "execution_count": 24,
   "source": [
    "t2_graph3 = t2_df3.plot.bar(x='Hour', y='fromCNT', rot=0)\n",
    "plt.title(\"Distribution of Bike Rentals in April for all stations\")\n",
    "plt.ylabel(\"fromCNT\")\n",
    "t2_graph3"
   ],
   "outputs": [
    {
     "output_type": "execute_result",
     "data": {
      "text/plain": [
       "<AxesSubplot:title={'center':'Distribution of Bike Rentals in April for all stations'}, xlabel='Hour', ylabel='fromCNT'>"
      ]
     },
     "metadata": {},
     "execution_count": 24
    },
    {
     "output_type": "display_data",
     "data": {
      "image/png": "[encoded data removed]",
      "text/plain": [
       "<Figure size 432x288 with 1 Axes>"
      ]
     },
     "metadata": {
      "needs_background": "light"
     }
    }
   ],
   "metadata": {}
  },
  {
   "cell_type": "markdown",
   "source": [
    "### Task 2.4"
   ],
   "metadata": {}
  },
  {
   "cell_type": "code",
   "execution_count": 25,
   "source": [
    "t2_df4 = fromInfo\n",
    "\n",
    "# FILTER\n",
    "t2_df4 = t2_df4.loc[t2_df4['Month'] == filter_month]\n",
    "\n",
    "# Total Rentals for each bike at each day\n",
    "t2_df4['Count'] = 0\n",
    "\n",
    "# MAKE A NEW TABLE --> find a way to fix x axis\n",
    "\n",
    "t2_df4 = t2_df4[['Count', 'Bikeid']]\n",
    "t2_df4 = t2_df4.groupby(['Bikeid']).count()\n",
    "\n",
    "# Convert dictionary into columns\n",
    "t2_df4.reset_index(inplace=True)\n",
    "\n",
    "# SORT BY most rented bikes\n",
    "t2_df4.sort_values([\"Count\"], inplace=True, ascending=False)\n",
    "\n",
    "t2_df4 = t2_df4.head(20) \n",
    "\n",
    "#t2_df4"
   ],
   "outputs": [
    {
     "output_type": "stream",
     "name": "stderr",
     "text": [
      "<ipython-input-25-e769f146a77c>:7: SettingWithCopyWarning: \n",
      "A value is trying to be set on a copy of a slice from a DataFrame.\n",
      "Try using .loc[row_indexer,col_indexer] = value instead\n",
      "\n",
      "See the caveats in the documentation: https://pandas.pydata.org/pandas-docs/stable/user_guide/indexing.html#returning-a-view-versus-a-copy\n",
      "  t2_df4['Count'] = 0\n"
     ]
    }
   ],
   "metadata": {}
  },
  {
   "cell_type": "code",
   "execution_count": 26,
   "source": [
    "t2_graph4 = t2_df4.plot.bar(x='Bikeid', y='Count', rot=0) \n",
    "plt.xticks(fontsize = 11, rotation = 70) \n",
    "plt.title(\"Total renatls for each Bike in April\")\n",
    "plt.ylabel(\"Number of rentals\")\n",
    "t2_graph4"
   ],
   "outputs": [
    {
     "output_type": "execute_result",
     "data": {
      "text/plain": [
       "<AxesSubplot:title={'center':'Total renatls for each Bike in April'}, xlabel='Bikeid', ylabel='Number of rentals'>"
      ]
     },
     "metadata": {},
     "execution_count": 26
    },
    {
     "output_type": "display_data",
     "data": {
      "image/png": "[encoded data removed]",
      "text/plain": [
       "<Figure size 432x288 with 1 Axes>"
      ]
     },
     "metadata": {
      "needs_background": "light"
     }
    }
   ],
   "metadata": {}
  },
  {
   "cell_type": "markdown",
   "source": [
    "---\n",
    "### Task 3"
   ],
   "metadata": {}
  },
  {
   "cell_type": "markdown",
   "source": [
    "In this task you will create graphs to show the rebalancing issue."
   ],
   "metadata": {}
  },
  {
   "cell_type": "markdown",
   "source": [
    "### Task 3.1"
   ],
   "metadata": {
    "scrolled": false
   }
  },
  {
   "cell_type": "code",
   "execution_count": 27,
   "source": [
    "t3_df1 = t1_Months\n",
    "\n",
    "# FILTER\n",
    "t3_df1 = t3_df1.loc[t3_df1['Month'] == filter_month]\n",
    "\n",
    "# MAKE A NEW TABLE\n",
    "t3_df1  = t3_df1 [['rebalCNT', 'station id']]\n",
    "\n",
    "# SORT BY HIGHEST REBALCNT \n",
    "t3_df1['rebalCNT'] = t3_df1['rebalCNT'].astype(int)\n",
    "t3_df1.sort_values([\"rebalCNT\"], inplace=True, ascending=False)\n",
    "\n",
    "t3_df1 = t3_df1.head(20)\n",
    "\n",
    "#t3_df1"
   ],
   "outputs": [],
   "metadata": {
    "collapsed": true
   }
  },
  {
   "cell_type": "code",
   "execution_count": 28,
   "source": [
    "graph5 = t3_df1.plot.bar(x='station id', y='rebalCNT', rot=0) \n",
    "plt.xticks(fontsize = 11, rotation = 70)\n",
    "plt.title(\"Bike stations with the highest rebalCNTs\")\n",
    "plt.ylabel(\"Number of rebalances\")\n",
    "graph5"
   ],
   "outputs": [
    {
     "output_type": "execute_result",
     "data": {
      "text/plain": [
       "<AxesSubplot:title={'center':'Bike stations with the highest rebalCNTs'}, xlabel='station id', ylabel='Number of rebalances'>"
      ]
     },
     "metadata": {},
     "execution_count": 28
    },
    {
     "output_type": "display_data",
     "data": {
      "image/png": "[encoded data removed]",
      "text/plain": [
       "<Figure size 432x288 with 1 Axes>"
      ]
     },
     "metadata": {
      "needs_background": "light"
     }
    }
   ],
   "metadata": {}
  },
  {
   "cell_type": "markdown",
   "source": [
    "### Task 3.2"
   ],
   "metadata": {}
  },
  {
   "cell_type": "code",
   "execution_count": 29,
   "source": [
    "# For the filter_month and for the filter_stationID show a graph that shows the distribution of bike rebalancing throughout the month, for that station only.\n",
    "# Y axis should be the rebalCNT for that stationID for that day, X axis would be the different days in that month (i.e., 1 - 30 for April).\n",
    "\n",
    "t3_df2 = t1_Days.copy(deep=True)\n",
    "\n",
    "# ADD COLUMN FOR MONTH AND DAY\n",
    "t3_df2[\"temp\"] = t3_df2[\"Date\"].str.split('/')\n",
    "t3_df2[\"Month\"] = t3_df2[\"temp\"].str[0]\n",
    "t3_df2['Month'] = t3_df2['Month'].astype(int)\n",
    "\n",
    "t3_df2[\"Day\"] = t3_df2[\"temp\"].str[1]\n",
    "t3_df2['Day'] = t3_df2['Day'].astype(int)\n",
    "\n",
    "# Remove the temp column\n",
    "t3_df2 = t3_df2.drop('temp', 1)\n",
    "\n",
    "# FILTER\n",
    "t3_df2 = t3_df2.loc[t3_df2['Month'] == filter_month]\n",
    "t3_df2 = t3_df2.loc[t3_df2['station id'] == filter_stationID]\n",
    "\n",
    "\n",
    "# SORT BY HOUR\n",
    "t3_df2.sort_values([\"Day\"], inplace=True)\n",
    "\n",
    "t3_df2['rebalCNT'] = t3_df2['rebalCNT'].astype(int)\n",
    "\n",
    "#t3_df2"
   ],
   "outputs": [],
   "metadata": {
    "collapsed": true
   }
  },
  {
   "cell_type": "code",
   "execution_count": 30,
   "source": [
    "graph6 = t3_df2.plot.bar(x='Day', y='rebalCNT', rot=0) \n",
    "plt.title(\"Distribution of bike rebalancing in April for station 1046\")\n",
    "plt.ylabel(\"Number of rebalances\")\n",
    "graph6"
   ],
   "outputs": [
    {
     "output_type": "execute_result",
     "data": {
      "text/plain": [
       "<AxesSubplot:title={'center':'Distribution of bike rebalancing in April for station 1046'}, xlabel='Day', ylabel='Number of rebalances'>"
      ]
     },
     "metadata": {},
     "execution_count": 30
    },
    {
     "output_type": "display_data",
     "data": {
      "image/png": "[encoded data removed]",
      "text/plain": [
       "<Figure size 432x288 with 1 Axes>"
      ]
     },
     "metadata": {
      "needs_background": "light"
     }
    }
   ],
   "metadata": {}
  },
  {
   "cell_type": "markdown",
   "source": [
    "---\n",
    "### Task 4"
   ],
   "metadata": {}
  },
  {
   "cell_type": "markdown",
   "source": [
    "In this task you will cluster the data to group similar stations together, using a variety of clustering functions and visualize the results of the clustering."
   ],
   "metadata": {}
  },
  {
   "cell_type": "code",
   "execution_count": 31,
   "source": [
    "# For this task, you should create a data structure where for each stationID you record the following features:\n",
    "#* 3 variables for the total fromCNT for each station for each of the 3 months of the third quarter (i.e., 7, 8, 9)   \n",
    "#* 3 variables for the total rebalCNT for each station for each of the 3 months of the third quarter (i.e., 7, 8, 9) \n",
    "\n",
    "\n",
    "# 1. FOR TOTAL REBAL COUNT MONTH 6\n",
    "\n",
    "# FILTER\n",
    "t4 = t1_Months.copy(deep=True)\n",
    "t4['Month'] = t4['Month'].astype(int)\n",
    "t4_6 = t4.loc[t4['Month'] == 6]\n",
    "# MAKE A NEW TABLE\n",
    "t4_6 = t4_6[['station id', 'rebalCNT', 'Month']]\n",
    "t4_6 = t4_6.groupby(['station id', 'rebalCNT']).count()\n",
    "# Convert dictionary into columns\n",
    "t4_6.reset_index(inplace=True)\n",
    "\n",
    "# 2. FOR TOTAL REBAL COUNT MONTH 5\n",
    "\n",
    "# FILTER\n",
    "t4 = t1_Months.copy(deep=True)\n",
    "t4['Month'] = t4['Month'].astype(int)\n",
    "t4_5 = t4.loc[t4['Month'] == 5]\n",
    "# MAKE A NEW TABLE\n",
    "t4_5 = t4_5[['station id', 'rebalCNT', 'Month']]\n",
    "t4_5 = t4_5.groupby(['station id', 'rebalCNT']).count()\n",
    "# Convert dictionary into columns\n",
    "t4_5.reset_index(inplace=True)\n",
    "\n",
    "# 3. FOR TOTAL REBAL COUNT MONTH 4\n",
    "\n",
    "# FILTER\n",
    "t4 = t1_Months.copy(deep=True)\n",
    "t4['Month'] = t4['Month'].astype(int)\n",
    "t4_4 = t4.loc[t4['Month'] == 4]\n",
    "# MAKE A NEW TABLE\n",
    "t4_4 = t4_4[['station id', 'rebalCNT', 'Month']]\n",
    "t4_4 = t4_4.groupby(['station id', 'rebalCNT']).count()\n",
    "# Convert dictionary into columns\n",
    "t4_4.reset_index(inplace=True)"
   ],
   "outputs": [],
   "metadata": {
    "collapsed": true
   }
  },
  {
   "cell_type": "code",
   "execution_count": 32,
   "source": [
    "# CREATE TABLE FOR REBALCNTS\n",
    "\n",
    "left = pd.DataFrame(\n",
    "    {\n",
    "     \"station id\": t4_6['station id'],\n",
    "     \"rebalCNT 6\": t4_6['rebalCNT']\n",
    "    }\n",
    ")\n",
    "\n",
    "right = pd.DataFrame(\n",
    "    {\n",
    "    \"station id\": t4_5['station id'],\n",
    "    \"rebalCNT 5\": t4_5['rebalCNT']\n",
    "    }\n",
    ")\n",
    "\n",
    "one = pd.merge(left, right, on=[\"station id\"], how='outer')\n",
    "\n",
    "\n",
    "left = pd.DataFrame(\n",
    "    {\n",
    "     \"station id\": one['station id'],\n",
    "     \"rebalCNT 5\": one['rebalCNT 5'],\n",
    "     \"rebalCNT 6\": one['rebalCNT 6']\n",
    "    }\n",
    ")\n",
    "\n",
    "right = pd.DataFrame(\n",
    "    {\n",
    "    \"station id\": t4_4['station id'],\n",
    "    \"rebalCNT 4\": t4_4['rebalCNT']\n",
    "    }\n",
    ")\n",
    "\n",
    "two = pd.merge(left, right, on=[\"station id\"], how='outer')\n",
    "\n",
    "\n",
    "#two"
   ],
   "outputs": [],
   "metadata": {}
  },
  {
   "cell_type": "code",
   "execution_count": 33,
   "source": [
    "# CREATE TABLES FOR FROMCNT\n",
    "\n",
    "\n",
    "# 1. FOR TOTAL REBAL COUNT MONTH 6\n",
    "\n",
    "# FILTER\n",
    "t4 = t1_Months.copy(deep=True)\n",
    "t4['Month'] = t4['Month'].astype(int)\n",
    "t4_6 = t4.loc[t4['Month'] == 6]\n",
    "# MAKE A NEW TABLE\n",
    "t4_6 = t4_6[['station id', 'fromCNT', 'Month']]\n",
    "t4_6 = t4_6.groupby(['station id', 'fromCNT']).count()\n",
    "# Convert dictionary into columns\n",
    "t4_6.reset_index(inplace=True)\n",
    "\n",
    "# 2. FOR TOTAL REBAL COUNT MONTH 8\n",
    "\n",
    "# FILTER\n",
    "t4 = t1_Months.copy(deep=True)\n",
    "t4['Month'] = t4['Month'].astype(int)\n",
    "t4_5 = t4.loc[t4['Month'] == 5]\n",
    "# MAKE A NEW TABLE\n",
    "t4_5 = t4_5[['station id', 'fromCNT', 'Month']]\n",
    "t4_5 = t4_5.groupby(['station id', 'fromCNT']).count()\n",
    "# Convert dictionary into columns\n",
    "t4_5.reset_index(inplace=True)\n",
    "\n",
    "# 3. FOR TOTAL REBAL COUNT MONTH 7\n",
    "\n",
    "# FILTER\n",
    "t4 = t1_Months.copy(deep=True)\n",
    "t4['Month'] = t4['Month'].astype(int)\n",
    "t4_4 = t4.loc[t4['Month'] == 4]\n",
    "# MAKE A NEW TABLE\n",
    "t4_4 = t4_4[['station id', 'fromCNT', 'Month']]\n",
    "t4_4 = t4_4.groupby(['station id', 'fromCNT']).count()\n",
    "# Convert dictionary into columns\n",
    "t4_4.reset_index(inplace=True)\n"
   ],
   "outputs": [],
   "metadata": {}
  },
  {
   "cell_type": "code",
   "execution_count": 34,
   "source": [
    "# CREATE TABLE FOR FROMCNTS\n",
    "\n",
    "left = pd.DataFrame(\n",
    "    {\n",
    "     \"station id\": t4_6['station id'],\n",
    "     \"fromCNT 6\": t4_6['fromCNT']\n",
    "    }\n",
    ")\n",
    "\n",
    "right = pd.DataFrame(\n",
    "    {\n",
    "    \"station id\": t4_5['station id'],\n",
    "    \"fromCNT 5\": t4_5['fromCNT']\n",
    "    }\n",
    ")\n",
    "\n",
    "three = pd.merge(left, right, on=[\"station id\"], how='outer')\n",
    "\n",
    "\n",
    "left = pd.DataFrame(\n",
    "    {\n",
    "     \"station id\": three['station id'],\n",
    "     \"fromCNT 5\": three['fromCNT 5'],\n",
    "     \"fromCNT 6\": three['fromCNT 6']\n",
    "    }\n",
    ")\n",
    "\n",
    "right = pd.DataFrame(\n",
    "    {\n",
    "    \"station id\": t4_4['station id'],\n",
    "    \"fromCNT 4\": t4_4['fromCNT']\n",
    "    }\n",
    ")\n",
    "\n",
    "four= pd.merge(left, right, on=[\"station id\"], how='outer')\n",
    "\n",
    "#four"
   ],
   "outputs": [],
   "metadata": {}
  },
  {
   "cell_type": "code",
   "execution_count": 35,
   "source": [
    "# MERGE from and rebal TABLES TOGETHER\n",
    "\n",
    "left = pd.DataFrame(\n",
    "    {\n",
    "     \"station id\": four['station id'],\n",
    "     \"fromCNT 4\": four['fromCNT 4'],\n",
    "     \"fromCNT 5\": four['fromCNT 5'],\n",
    "     \"fromCNT 6\": four['fromCNT 6']\n",
    "    }\n",
    ")\n",
    "\n",
    "right = pd.DataFrame(\n",
    "    {\n",
    "    \"station id\": two['station id'],\n",
    "    \"rebalCNT 4\": two['rebalCNT 4'],\n",
    "    \"rebalCNT 5\": two['rebalCNT 5'],\n",
    "    \"rebalCNT 6\": two['rebalCNT 6']\n",
    "    }\n",
    ")\n",
    "\n",
    "final = pd.merge(left, right, on=[\"station id\"], how='outer')\n",
    "\n",
    "# Replace all NaN values with 0s\n",
    "final = final.replace(np.nan,'0') \n",
    "\n",
    "# CHANGE TYPE VALUES\n",
    "final = final.astype(int)\n",
    "\n",
    "final"
   ],
   "outputs": [
    {
     "output_type": "execute_result",
     "data": {
      "text/html": [
       "<div>\n",
       "<style scoped>\n",
       "    .dataframe tbody tr th:only-of-type {\n",
       "        vertical-align: middle;\n",
       "    }\n",
       "\n",
       "    .dataframe tbody tr th {\n",
       "        vertical-align: top;\n",
       "    }\n",
       "\n",
       "    .dataframe thead th {\n",
       "        text-align: right;\n",
       "    }\n",
       "</style>\n",
       "<table border=\"1\" class=\"dataframe\">\n",
       "  <thead>\n",
       "    <tr style=\"text-align: right;\">\n",
       "      <th></th>\n",
       "      <th>station id</th>\n",
       "      <th>fromCNT 4</th>\n",
       "      <th>fromCNT 5</th>\n",
       "      <th>fromCNT 6</th>\n",
       "      <th>rebalCNT 4</th>\n",
       "      <th>rebalCNT 5</th>\n",
       "      <th>rebalCNT 6</th>\n",
       "    </tr>\n",
       "  </thead>\n",
       "  <tbody>\n",
       "    <tr>\n",
       "      <th>0</th>\n",
       "      <td>1000</td>\n",
       "      <td>553</td>\n",
       "      <td>834</td>\n",
       "      <td>811</td>\n",
       "      <td>38</td>\n",
       "      <td>48</td>\n",
       "      <td>21</td>\n",
       "    </tr>\n",
       "    <tr>\n",
       "      <th>1</th>\n",
       "      <td>1001</td>\n",
       "      <td>236</td>\n",
       "      <td>342</td>\n",
       "      <td>366</td>\n",
       "      <td>19</td>\n",
       "      <td>21</td>\n",
       "      <td>21</td>\n",
       "    </tr>\n",
       "    <tr>\n",
       "      <th>2</th>\n",
       "      <td>1002</td>\n",
       "      <td>145</td>\n",
       "      <td>97</td>\n",
       "      <td>144</td>\n",
       "      <td>11</td>\n",
       "      <td>10</td>\n",
       "      <td>9</td>\n",
       "    </tr>\n",
       "    <tr>\n",
       "      <th>3</th>\n",
       "      <td>1003</td>\n",
       "      <td>42</td>\n",
       "      <td>86</td>\n",
       "      <td>83</td>\n",
       "      <td>6</td>\n",
       "      <td>1</td>\n",
       "      <td>11</td>\n",
       "    </tr>\n",
       "    <tr>\n",
       "      <th>4</th>\n",
       "      <td>1004</td>\n",
       "      <td>111</td>\n",
       "      <td>118</td>\n",
       "      <td>89</td>\n",
       "      <td>1</td>\n",
       "      <td>2</td>\n",
       "      <td>4</td>\n",
       "    </tr>\n",
       "    <tr>\n",
       "      <th>...</th>\n",
       "      <td>...</td>\n",
       "      <td>...</td>\n",
       "      <td>...</td>\n",
       "      <td>...</td>\n",
       "      <td>...</td>\n",
       "      <td>...</td>\n",
       "      <td>...</td>\n",
       "    </tr>\n",
       "    <tr>\n",
       "      <th>104</th>\n",
       "      <td>49921</td>\n",
       "      <td>86</td>\n",
       "      <td>122</td>\n",
       "      <td>96</td>\n",
       "      <td>36</td>\n",
       "      <td>23</td>\n",
       "      <td>21</td>\n",
       "    </tr>\n",
       "    <tr>\n",
       "      <th>105</th>\n",
       "      <td>49941</td>\n",
       "      <td>0</td>\n",
       "      <td>21</td>\n",
       "      <td>73</td>\n",
       "      <td>0</td>\n",
       "      <td>44</td>\n",
       "      <td>4</td>\n",
       "    </tr>\n",
       "    <tr>\n",
       "      <th>106</th>\n",
       "      <td>49951</td>\n",
       "      <td>84</td>\n",
       "      <td>135</td>\n",
       "      <td>132</td>\n",
       "      <td>53</td>\n",
       "      <td>4</td>\n",
       "      <td>44</td>\n",
       "    </tr>\n",
       "    <tr>\n",
       "      <th>107</th>\n",
       "      <td>88883</td>\n",
       "      <td>0</td>\n",
       "      <td>0</td>\n",
       "      <td>0</td>\n",
       "      <td>0</td>\n",
       "      <td>0</td>\n",
       "      <td>0</td>\n",
       "    </tr>\n",
       "    <tr>\n",
       "      <th>108</th>\n",
       "      <td>88887</td>\n",
       "      <td>1</td>\n",
       "      <td>0</td>\n",
       "      <td>0</td>\n",
       "      <td>0</td>\n",
       "      <td>0</td>\n",
       "      <td>0</td>\n",
       "    </tr>\n",
       "  </tbody>\n",
       "</table>\n",
       "<p>109 rows × 7 columns</p>\n",
       "</div>"
      ],
      "text/plain": [
       "     station id  fromCNT 4  fromCNT 5  fromCNT 6  rebalCNT 4  rebalCNT 5  \\\n",
       "0          1000        553        834        811          38          48   \n",
       "1          1001        236        342        366          19          21   \n",
       "2          1002        145         97        144          11          10   \n",
       "3          1003         42         86         83           6           1   \n",
       "4          1004        111        118         89           1           2   \n",
       "..          ...        ...        ...        ...         ...         ...   \n",
       "104       49921         86        122         96          36          23   \n",
       "105       49941          0         21         73           0          44   \n",
       "106       49951         84        135        132          53           4   \n",
       "107       88883          0          0          0           0           0   \n",
       "108       88887          1          0          0           0           0   \n",
       "\n",
       "     rebalCNT 6  \n",
       "0            21  \n",
       "1            21  \n",
       "2             9  \n",
       "3            11  \n",
       "4             4  \n",
       "..          ...  \n",
       "104          21  \n",
       "105           4  \n",
       "106          44  \n",
       "107           0  \n",
       "108           0  \n",
       "\n",
       "[109 rows x 7 columns]"
      ]
     },
     "metadata": {},
     "execution_count": 35
    }
   ],
   "metadata": {}
  },
  {
   "cell_type": "markdown",
   "source": [
    "### Task 4.1"
   ],
   "metadata": {}
  },
  {
   "cell_type": "code",
   "execution_count": 36,
   "source": [
    "# K MEANS 1: K = 2\n",
    "f1 = final.copy(deep=True)\n",
    "\n",
    "# INITIALIZE OBJECT FOR K MEANS\n",
    "k_means1 = cluster.KMeans(n_clusters=2, init = 'k-means++',\\\n",
    "                         random_state=5000)\n",
    "\n",
    "# RUN K MEANS ON DATA\n",
    "k_means1.fit(f1[['fromCNT 4', 'fromCNT 5', 'fromCNT 6', 'rebalCNT 4', 'rebalCNT 5', 'rebalCNT 6']])\n"
   ],
   "outputs": [
    {
     "output_type": "execute_result",
     "data": {
      "text/plain": [
       "KMeans(n_clusters=2, random_state=5000)"
      ]
     },
     "metadata": {},
     "execution_count": 36
    }
   ],
   "metadata": {}
  },
  {
   "cell_type": "code",
   "execution_count": 37,
   "source": [
    "# K MEANS 2: K = 5\n",
    "f2 = final.copy(deep=True)\n",
    "\n",
    "# INITIALIZE OBJECT FOR K MEANS\n",
    "k_means2 = cluster.KMeans(n_clusters=5, init = 'k-means++',\\\n",
    "                         random_state=5000) \n",
    "\n",
    "# RUN K MEANS ON DATA\n",
    "k_means2.fit(f2[['fromCNT 4', 'fromCNT 5', 'fromCNT 6', 'rebalCNT 4', 'rebalCNT 5', 'rebalCNT 6']])"
   ],
   "outputs": [
    {
     "output_type": "execute_result",
     "data": {
      "text/plain": [
       "KMeans(n_clusters=5, random_state=5000)"
      ]
     },
     "metadata": {},
     "execution_count": 37
    }
   ],
   "metadata": {}
  },
  {
   "cell_type": "code",
   "execution_count": 38,
   "source": [
    "# K MEANS 3 : K = 13\n",
    "f3 = final.copy(deep=True)\n",
    "\n",
    "# INITIALIZE OBJECT FOR K MEANS\n",
    "k_means3 = cluster.KMeans(n_clusters=13, init = 'k-means++',\\\n",
    "                         random_state=5000)\n",
    "\n",
    "# RUN K MEANS ON DATA\n",
    "k_means3.fit(f3[['fromCNT 4', 'fromCNT 5', 'fromCNT 6', 'rebalCNT 4', 'rebalCNT 5', 'rebalCNT 6']])"
   ],
   "outputs": [
    {
     "output_type": "execute_result",
     "data": {
      "text/plain": [
       "KMeans(n_clusters=13, random_state=5000)"
      ]
     },
     "metadata": {},
     "execution_count": 38
    }
   ],
   "metadata": {}
  },
  {
   "cell_type": "code",
   "execution_count": 39,
   "source": [
    "# DBSCAN 1\n",
    "\n",
    "from sklearn.cluster import DBSCAN\n",
    "\n",
    "f4 = final.copy(deep=True)\n",
    "\n",
    "db1 = DBSCAN(eps=60, min_samples=2).fit(f4)\n",
    "labels1 = db1.labels_\n",
    "n_clusters_ = len(set(labels1)) - (1 if -1 in labels1 else 0)\n",
    "n_clusters_"
   ],
   "outputs": [
    {
     "output_type": "execute_result",
     "data": {
      "text/plain": [
       "10"
      ]
     },
     "metadata": {},
     "execution_count": 39
    }
   ],
   "metadata": {}
  },
  {
   "cell_type": "code",
   "execution_count": 40,
   "source": [
    "# DBSCAN 2\n",
    "f4 = final.copy(deep=True)\n",
    "\n",
    "db2 = DBSCAN(eps=70, min_samples=4).fit(f4) \n",
    "labels2 = db2.labels_\n",
    "n_clusters_ = len(set(labels2)) - (1 if -1 in labels2 else 0)\n",
    "n_clusters_"
   ],
   "outputs": [
    {
     "output_type": "execute_result",
     "data": {
      "text/plain": [
       "3"
      ]
     },
     "metadata": {},
     "execution_count": 40
    }
   ],
   "metadata": {}
  },
  {
   "cell_type": "code",
   "execution_count": 41,
   "source": [
    "# DBSCAN 3\n",
    "f4 = final.copy(deep=True)\n",
    "\n",
    "d3 = DBSCAN(eps=30, min_samples=2).fit(f4) \n",
    "labels3 = d3.labels_\n",
    "n_clusters_ = len(set(labels3)) - (1 if -1 in labels3 else 0)\n",
    "n_clusters_"
   ],
   "outputs": [
    {
     "output_type": "execute_result",
     "data": {
      "text/plain": [
       "8"
      ]
     },
     "metadata": {},
     "execution_count": 41
    }
   ],
   "metadata": {}
  },
  {
   "cell_type": "markdown",
   "source": [
    "### Task 4.2"
   ],
   "metadata": {}
  },
  {
   "cell_type": "code",
   "execution_count": 42,
   "source": [
    "# Table1. \n",
    "t1 = final.copy(deep=True)\n",
    "t1['clusterID'] = k_means1.labels_\n",
    "t1['Number of Stations in Cluster'] = 1\n",
    "\n",
    "data1 = t1[['clusterID', 'Number of Stations in Cluster']]   \n",
    "data1 = data1.groupby(['clusterID']).count()\n",
    "data1.reset_index(inplace=True)  \n",
    "data1.sort_values([\"Number of Stations in Cluster\"], inplace=True, ascending=False)\n",
    "\n",
    "#data1\n"
   ],
   "outputs": [],
   "metadata": {
    "collapsed": true
   }
  },
  {
   "cell_type": "code",
   "execution_count": 43,
   "source": [
    "# Graph1.\n",
    "g1 = data1.plot.bar(x='clusterID', y='Number of Stations in Cluster', rot=0) \n",
    "plt.title(\"K Means Data with k = 2\")\n",
    "plt.ylabel(\"Number of stations in Cluster\")\n",
    "g1"
   ],
   "outputs": [
    {
     "output_type": "execute_result",
     "data": {
      "text/plain": [
       "<AxesSubplot:title={'center':'K Means Data with k = 2'}, xlabel='clusterID', ylabel='Number of stations in Cluster'>"
      ]
     },
     "metadata": {},
     "execution_count": 43
    },
    {
     "output_type": "display_data",
     "data": {
      "image/png": "[encoded data removed]",
      "text/plain": [
       "<Figure size 432x288 with 1 Axes>"
      ]
     },
     "metadata": {
      "needs_background": "light"
     }
    }
   ],
   "metadata": {}
  },
  {
   "cell_type": "code",
   "execution_count": 44,
   "source": [
    "# Table2. \n",
    "t2 = final.copy(deep=True)\n",
    "t2['clusterID'] = k_means2.labels_\n",
    "t2['Number of Stations in Cluster'] = 1\n",
    "data2 = t2[['clusterID', 'Number of Stations in Cluster']]   \n",
    "data2 = data2.groupby(['clusterID']).count()\n",
    "data2.reset_index(inplace=True)  \n",
    "data2.sort_values([\"Number of Stations in Cluster\"], inplace=True, ascending=False)\n",
    "#data2"
   ],
   "outputs": [],
   "metadata": {}
  },
  {
   "cell_type": "code",
   "execution_count": 45,
   "source": [
    "# Graph2. \n",
    "g2 = data2.plot.bar(x='clusterID', y='Number of Stations in Cluster', rot=0) \n",
    "plt.title(\"K Means Data with k = 5\")\n",
    "plt.ylabel(\"Number of stations in Cluster\")\n",
    "g2 "
   ],
   "outputs": [
    {
     "output_type": "execute_result",
     "data": {
      "text/plain": [
       "<AxesSubplot:title={'center':'K Means Data with k = 5'}, xlabel='clusterID', ylabel='Number of stations in Cluster'>"
      ]
     },
     "metadata": {},
     "execution_count": 45
    },
    {
     "output_type": "display_data",
     "data": {
      "image/png": "[encoded data removed]",
      "text/plain": [
       "<Figure size 432x288 with 1 Axes>"
      ]
     },
     "metadata": {
      "needs_background": "light"
     }
    }
   ],
   "metadata": {}
  },
  {
   "cell_type": "code",
   "execution_count": 46,
   "source": [
    "# Table3\n",
    "t3 = final.copy(deep=True) \n",
    "t3['clusterID'] = k_means3.labels_\n",
    "t3['Number of Stations in Cluster'] = 1\n",
    "data3 = t3[['clusterID', 'Number of Stations in Cluster']]   \n",
    "data3 = data3.groupby(['clusterID']).count()\n",
    "data3.reset_index(inplace=True)  \n",
    "data3.sort_values([\"Number of Stations in Cluster\"], inplace=True, ascending=False)\n",
    "#data3"
   ],
   "outputs": [],
   "metadata": {}
  },
  {
   "cell_type": "code",
   "execution_count": 47,
   "source": [
    "# Graph3\n",
    "g3 = data3.plot.bar(x='clusterID', y='Number of Stations in Cluster', rot=0) \n",
    "plt.title(\"K Means Data with k = 13\")\n",
    "plt.ylabel(\"Number of stations in Cluster\")\n",
    "g3"
   ],
   "outputs": [
    {
     "output_type": "execute_result",
     "data": {
      "text/plain": [
       "<AxesSubplot:title={'center':'K Means Data with k = 13'}, xlabel='clusterID', ylabel='Number of stations in Cluster'>"
      ]
     },
     "metadata": {},
     "execution_count": 47
    },
    {
     "output_type": "display_data",
     "data": {
      "image/png": "[encoded data removed]",
      "text/plain": [
       "<Figure size 432x288 with 1 Axes>"
      ]
     },
     "metadata": {
      "needs_background": "light"
     }
    }
   ],
   "metadata": {}
  },
  {
   "cell_type": "code",
   "execution_count": 48,
   "source": [
    "# Table4. DBSCAN\n",
    "t4 = final.copy(deep=True)\n",
    "\n",
    "t4['clusterID'] = labels1\n",
    "t4['Number of Stations in Cluster'] = 1\n",
    "\n",
    "data4 = t4[['clusterID', 'Number of Stations in Cluster']]   \n",
    "data4 = data4.groupby(['clusterID']).count()\n",
    "data4.reset_index(inplace=True)  \n",
    "data4.sort_values([\"Number of Stations in Cluster\"], inplace=True, ascending=False)\n",
    "\n",
    "#data4"
   ],
   "outputs": [],
   "metadata": {}
  },
  {
   "cell_type": "code",
   "execution_count": 49,
   "source": [
    "# Graph4. DBSCAN\n",
    "g4 = data4.plot.bar(x='clusterID', y='Number of Stations in Cluster', rot=0) \n",
    "plt.title(\"DBSCAN with esp=60 and min_samples=2\")\n",
    "plt.ylabel(\"Number of stations in Cluster\")\n",
    "g4"
   ],
   "outputs": [
    {
     "output_type": "execute_result",
     "data": {
      "text/plain": [
       "<AxesSubplot:title={'center':'DBSCAN with esp=60 and min_samples=2'}, xlabel='clusterID', ylabel='Number of stations in Cluster'>"
      ]
     },
     "metadata": {},
     "execution_count": 49
    },
    {
     "output_type": "display_data",
     "data": {
      "image/png": "[encoded data removed]",
      "text/plain": [
       "<Figure size 432x288 with 1 Axes>"
      ]
     },
     "metadata": {
      "needs_background": "light"
     }
    }
   ],
   "metadata": {}
  },
  {
   "cell_type": "code",
   "execution_count": 50,
   "source": [
    "# Table5. DBSCAN\n",
    "t5 = final.copy(deep=True)\n",
    "\n",
    "t5['clusterID'] = labels2\n",
    "t5['Number of Stations in Cluster'] = 1\n",
    "\n",
    "data5 = t5[['clusterID', 'Number of Stations in Cluster']]   \n",
    "data5 = data5.groupby(['clusterID']).count()\n",
    "data5.reset_index(inplace=True)  \n",
    "data5.sort_values([\"Number of Stations in Cluster\"], inplace=True, ascending=False)\n",
    "\n",
    "#data5"
   ],
   "outputs": [],
   "metadata": {}
  },
  {
   "cell_type": "code",
   "execution_count": 51,
   "source": [
    "# Graph5. DBSCAN\n",
    "g5 = data5.plot.bar(x='clusterID', y='Number of Stations in Cluster', rot=0) \n",
    "plt.title(\"DBSCAN with esp=70 and min_samples=4\")\n",
    "plt.ylabel(\"Number of stations in Cluster\")\n",
    "g5"
   ],
   "outputs": [
    {
     "output_type": "execute_result",
     "data": {
      "text/plain": [
       "<AxesSubplot:title={'center':'DBSCAN with esp=70 and min_samples=4'}, xlabel='clusterID', ylabel='Number of stations in Cluster'>"
      ]
     },
     "metadata": {},
     "execution_count": 51
    },
    {
     "output_type": "display_data",
     "data": {
      "image/png": "[encoded data removed]",
      "text/plain": [
       "<Figure size 432x288 with 1 Axes>"
      ]
     },
     "metadata": {
      "needs_background": "light"
     }
    }
   ],
   "metadata": {}
  },
  {
   "cell_type": "code",
   "execution_count": 52,
   "source": [
    "# Table6. DBSCAN\n",
    "t6 = final.copy(deep=True)\n",
    "\n",
    "t6['clusterID'] = labels3\n",
    "t6['Number of Stations in Cluster'] = 1\n",
    "\n",
    "data6 = t6[['clusterID', 'Number of Stations in Cluster']]   \n",
    "data6 = data6.groupby(['clusterID']).count()\n",
    "data6.reset_index(inplace=True)  \n",
    "data6.sort_values([\"Number of Stations in Cluster\"], inplace=True, ascending=False)\n",
    "\n",
    "#data6"
   ],
   "outputs": [],
   "metadata": {}
  },
  {
   "cell_type": "code",
   "execution_count": 53,
   "source": [
    "# Graph6. DBSCAN\n",
    "g6 = data6.plot.bar(x='clusterID', y='Number of Stations in Cluster', rot=0) \n",
    "plt.title(\"DBSCAN with esp=30 and min_samples=2\")\n",
    "plt.ylabel(\"Number of stations in Cluster\")\n",
    "g6"
   ],
   "outputs": [
    {
     "output_type": "execute_result",
     "data": {
      "text/plain": [
       "<AxesSubplot:title={'center':'DBSCAN with esp=30 and min_samples=2'}, xlabel='clusterID', ylabel='Number of stations in Cluster'>"
      ]
     },
     "metadata": {},
     "execution_count": 53
    },
    {
     "output_type": "display_data",
     "data": {
      "image/png": "[encoded data removed]",
      "text/plain": [
       "<Figure size 432x288 with 1 Axes>"
      ]
     },
     "metadata": {
      "needs_background": "light"
     }
    }
   ],
   "metadata": {}
  },
  {
   "cell_type": "markdown",
   "source": [
    "### Task 4.3"
   ],
   "metadata": {}
  },
  {
   "cell_type": "code",
   "execution_count": 54,
   "source": [
    "distortions = []\n",
    "K = range(1,18)\n",
    "for k in K:\n",
    "    kmeanModel = cluster.KMeans(n_clusters=k, init = 'k-means++',\\\n",
    "                         random_state=5000)\n",
    "\n",
    "    kmeanModel.fit(final[['fromCNT 4', 'fromCNT 5', 'fromCNT 6', 'rebalCNT 4', 'rebalCNT 5', 'rebalCNT 6']])\n",
    "    distortions.append(kmeanModel.inertia_)"
   ],
   "outputs": [],
   "metadata": {
    "collapsed": true
   }
  },
  {
   "cell_type": "code",
   "execution_count": 55,
   "source": [
    "plt.figure(figsize=(16,8))\n",
    "plt.plot(K, distortions, 'bx-')\n",
    "plt.xlabel('Values of k')\n",
    "plt.ylabel('Distortion')\n",
    "plt.title('The Elbow Method showing the optimal k') \n",
    "plt.show()"
   ],
   "outputs": [
    {
     "output_type": "display_data",
     "data": {
      "image/png": "[encoded data removed]",
      "text/plain": [
       "<Figure size 1152x576 with 1 Axes>"
      ]
     },
     "metadata": {
      "needs_background": "light"
     }
    }
   ],
   "metadata": {}
  },
  {
   "cell_type": "code",
   "execution_count": 56,
   "source": [
    "# a) The best value of k is 3 based on the elbow graph.\n",
    "\n",
    "# b) k means is the better algorithm; DBSCAN is not efficient for large data sets\n",
    "# DBSCAN is better at handling outliers/noise than kmeans, yet based on the DBSCAN graphs there were more outliers indicating that it is inefficient"
   ],
   "outputs": [],
   "metadata": {}
  }
 ],
 "metadata": {
  "anaconda-cloud": {},
  "kernelspec": {
   "name": "python3",
   "display_name": "Python 3.8.5 64-bit (conda)"
  },
  "language_info": {
   "codemirror_mode": {
    "name": "ipython",
    "version": 3
   },
   "file_extension": ".py",
   "mimetype": "text/x-python",
   "name": "python",
   "nbconvert_exporter": "python",
   "pygments_lexer": "ipython3",
   "version": "3.8.5"
  },
  "interpreter": {
   "hash": "dca0ade3e726a953b501b15e8e990130d2b7799f14cfd9f4271676035ebe5511"
  }
 },
 "nbformat": 4,
 "nbformat_minor": 2
}